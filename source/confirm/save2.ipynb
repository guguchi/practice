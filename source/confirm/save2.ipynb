{
 "cells": [
  {
   "cell_type": "code",
   "execution_count": 1,
   "metadata": {
    "collapsed": false
   },
   "outputs": [],
   "source": [
    "import tensorflow as tf\n",
    "import numpy as np"
   ]
  },
  {
   "cell_type": "code",
   "execution_count": 2,
   "metadata": {
    "collapsed": false
   },
   "outputs": [
    {
     "name": "stdout",
     "output_type": "stream",
     "text": [
      "load ./model.ckpt\n",
      "[[ 0.99929607]\n",
      " [ 0.99476331]\n",
      " [ 1.00021887]\n",
      " [ 1.00050163]\n",
      " [ 0.99987859]]\n",
      "[ 1.99955463]\n"
     ]
    }
   ],
   "source": [
    "###一回目は上手くいく\n",
    "sess = tf.InteractiveSession()\n",
    "\n",
    "w1 = tf.Variable(tf.zeros(shape=[5, 1]), name='w1')\n",
    "w2 = tf.Variable(tf.zeros(shape=[1]), name='w2')\n",
    "\n",
    "saver = tf.train.Saver()\n",
    "\n",
    "ckpt = tf.train.get_checkpoint_state('./')\n",
    "if ckpt:\n",
    "    last_model = ckpt.model_checkpoint_path\n",
    "    print \"load \" + last_model\n",
    "    saver.restore(sess, last_model)\n",
    "\n",
    "    print sess.run(w1)\n",
    "    print sess.run(w2)\n",
    "\n",
    "else:\n",
    "    init = tf.initialize_all_variables()\n",
    "    sess.run(init)\n",
    "    \n",
    "sess.close()"
   ]
  },
  {
   "cell_type": "code",
   "execution_count": 3,
   "metadata": {
    "collapsed": false
   },
   "outputs": [
    {
     "name": "stdout",
     "output_type": "stream",
     "text": [
      "load ./model.ckpt\n",
      "[[ 0.99929607]\n",
      " [ 0.99476331]\n",
      " [ 1.00021887]\n",
      " [ 1.00050163]\n",
      " [ 0.99987859]]\n",
      "[ 1.99955463]\n"
     ]
    }
   ],
   "source": [
    "###\n",
    "sess = tf.InteractiveSession()\n",
    "\n",
    "#w1 = tf.Variable(tf.zeros(shape=[5, 1]), name='w1')\n",
    "#w2 = tf.Variable(tf.zeros(shape=[1]), name='w2')\n",
    "\n",
    "saver = tf.train.Saver()\n",
    "\n",
    "ckpt = tf.train.get_checkpoint_state('./')\n",
    "if ckpt:\n",
    "    last_model = ckpt.model_checkpoint_path\n",
    "    print \"load \" + last_model\n",
    "    saver.restore(sess, last_model)\n",
    "\n",
    "    print sess.run(w1)\n",
    "    print sess.run(w2)\n",
    "\n",
    "else:\n",
    "    init = tf.initialize_all_variables()\n",
    "    sess.run(init)\n",
    "    \n",
    "sess.close()"
   ]
  },
  {
   "cell_type": "code",
   "execution_count": null,
   "metadata": {
    "collapsed": true
   },
   "outputs": [],
   "source": []
  }
 ],
 "metadata": {
  "anaconda-cloud": {},
  "kernelspec": {
   "display_name": "Python [Root]",
   "language": "python",
   "name": "Python [Root]"
  },
  "language_info": {
   "codemirror_mode": {
    "name": "ipython",
    "version": 2
   },
   "file_extension": ".py",
   "mimetype": "text/x-python",
   "name": "python",
   "nbconvert_exporter": "python",
   "pygments_lexer": "ipython2",
   "version": "2.7.11"
  }
 },
 "nbformat": 4,
 "nbformat_minor": 0
}
