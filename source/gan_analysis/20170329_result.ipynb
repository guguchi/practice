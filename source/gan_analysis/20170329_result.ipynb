{
 "cells": [
  {
   "cell_type": "code",
   "execution_count": 1,
   "metadata": {
    "collapsed": false
   },
   "outputs": [],
   "source": [
    "# coding: utf-8 \n",
    "import os\n",
    "import matplotlib\n",
    "matplotlib.use('Agg')\n",
    "import matplotlib.pyplot as plt\n",
    "from vanilla_gan import *\n",
    "import tensorflow as tf"
   ]
  },
  {
   "cell_type": "code",
   "execution_count": 3,
   "metadata": {
    "collapsed": false
   },
   "outputs": [
    {
     "ename": "NotFoundError",
     "evalue": "Key G_b3_1 not found in checkpoint\n\t [[Node: save_1/RestoreV2_15 = RestoreV2[dtypes=[DT_FLOAT], _device=\"/job:localhost/replica:0/task:0/cpu:0\"](_recv_save_1/Const_0, save_1/RestoreV2_15/tensor_names, save_1/RestoreV2_15/shape_and_slices)]]\n\nCaused by op u'save_1/RestoreV2_15', defined at:\n  File \"/home/yamaguchi-s/anaconda/lib/python2.7/runpy.py\", line 162, in _run_module_as_main\n    \"__main__\", fname, loader, pkg_name)\n  File \"/home/yamaguchi-s/anaconda/lib/python2.7/runpy.py\", line 72, in _run_code\n    exec code in run_globals\n  File \"/home/yamaguchi-s/anaconda/lib/python2.7/site-packages/IPython/kernel/__main__.py\", line 3, in <module>\n    app.launch_new_instance()\n  File \"/home/yamaguchi-s/anaconda/lib/python2.7/site-packages/IPython/config/application.py\", line 574, in launch_instance\n    app.start()\n  File \"/home/yamaguchi-s/anaconda/lib/python2.7/site-packages/IPython/kernel/zmq/kernelapp.py\", line 374, in start\n    ioloop.IOLoop.instance().start()\n  File \"/home/yamaguchi-s/anaconda/lib/python2.7/site-packages/zmq/eventloop/ioloop.py\", line 151, in start\n    super(ZMQIOLoop, self).start()\n  File \"/home/yamaguchi-s/anaconda/lib/python2.7/site-packages/tornado/ioloop.py\", line 840, in start\n    handler_func(fd_obj, events)\n  File \"/home/yamaguchi-s/anaconda/lib/python2.7/site-packages/tornado/stack_context.py\", line 275, in null_wrapper\n    return fn(*args, **kwargs)\n  File \"/home/yamaguchi-s/anaconda/lib/python2.7/site-packages/zmq/eventloop/zmqstream.py\", line 433, in _handle_events\n    self._handle_recv()\n  File \"/home/yamaguchi-s/anaconda/lib/python2.7/site-packages/zmq/eventloop/zmqstream.py\", line 465, in _handle_recv\n    self._run_callback(callback, msg)\n  File \"/home/yamaguchi-s/anaconda/lib/python2.7/site-packages/zmq/eventloop/zmqstream.py\", line 407, in _run_callback\n    callback(*args, **kwargs)\n  File \"/home/yamaguchi-s/anaconda/lib/python2.7/site-packages/tornado/stack_context.py\", line 275, in null_wrapper\n    return fn(*args, **kwargs)\n  File \"/home/yamaguchi-s/anaconda/lib/python2.7/site-packages/IPython/kernel/zmq/kernelbase.py\", line 252, in dispatcher\n    return self.dispatch_shell(stream, msg)\n  File \"/home/yamaguchi-s/anaconda/lib/python2.7/site-packages/IPython/kernel/zmq/kernelbase.py\", line 213, in dispatch_shell\n    handler(stream, idents, msg)\n  File \"/home/yamaguchi-s/anaconda/lib/python2.7/site-packages/IPython/kernel/zmq/kernelbase.py\", line 362, in execute_request\n    user_expressions, allow_stdin)\n  File \"/home/yamaguchi-s/anaconda/lib/python2.7/site-packages/IPython/kernel/zmq/ipkernel.py\", line 181, in do_execute\n    shell.run_cell(code, store_history=store_history, silent=silent)\n  File \"/home/yamaguchi-s/anaconda/lib/python2.7/site-packages/IPython/core/interactiveshell.py\", line 2868, in run_cell\n    interactivity=interactivity, compiler=compiler, result=result)\n  File \"/home/yamaguchi-s/anaconda/lib/python2.7/site-packages/IPython/core/interactiveshell.py\", line 2972, in run_ast_nodes\n    if self.run_code(code, result):\n  File \"/home/yamaguchi-s/anaconda/lib/python2.7/site-packages/IPython/core/interactiveshell.py\", line 3032, in run_code\n    exec(code_obj, self.user_global_ns, self.user_ns)\n  File \"<ipython-input-3-dcd4845eae6a>\", line 42, in <module>\n    model.restore_maui(root+path, step, sample_size, num_cluster, scale, std)\n  File \"vanilla_gan.py\", line 217, in restore_maui\n    G_sample = self.sample_generator()\n  File \"vanilla_gan.py\", line 192, in sample_generator\n    self.saver = tf.train.Saver()\n  File \"/home/yamaguchi-s/anaconda/lib/python2.7/site-packages/tensorflow/python/training/saver.py\", line 1040, in __init__\n    self.build()\n  File \"/home/yamaguchi-s/anaconda/lib/python2.7/site-packages/tensorflow/python/training/saver.py\", line 1070, in build\n    restore_sequentially=self._restore_sequentially)\n  File \"/home/yamaguchi-s/anaconda/lib/python2.7/site-packages/tensorflow/python/training/saver.py\", line 675, in build\n    restore_sequentially, reshape)\n  File \"/home/yamaguchi-s/anaconda/lib/python2.7/site-packages/tensorflow/python/training/saver.py\", line 402, in _AddRestoreOps\n    tensors = self.restore_op(filename_tensor, saveable, preferred_shard)\n  File \"/home/yamaguchi-s/anaconda/lib/python2.7/site-packages/tensorflow/python/training/saver.py\", line 242, in restore_op\n    [spec.tensor.dtype])[0])\n  File \"/home/yamaguchi-s/anaconda/lib/python2.7/site-packages/tensorflow/python/ops/gen_io_ops.py\", line 668, in restore_v2\n    dtypes=dtypes, name=name)\n  File \"/home/yamaguchi-s/anaconda/lib/python2.7/site-packages/tensorflow/python/framework/op_def_library.py\", line 763, in apply_op\n    op_def=op_def)\n  File \"/home/yamaguchi-s/anaconda/lib/python2.7/site-packages/tensorflow/python/framework/ops.py\", line 2327, in create_op\n    original_op=self._default_original_op, op_def=op_def)\n  File \"/home/yamaguchi-s/anaconda/lib/python2.7/site-packages/tensorflow/python/framework/ops.py\", line 1226, in __init__\n    self._traceback = _extract_stack()\n\nNotFoundError (see above for traceback): Key G_b3_1 not found in checkpoint\n\t [[Node: save_1/RestoreV2_15 = RestoreV2[dtypes=[DT_FLOAT], _device=\"/job:localhost/replica:0/task:0/cpu:0\"](_recv_save_1/Const_0, save_1/RestoreV2_15/tensor_names, save_1/RestoreV2_15/shape_and_slices)]]\n",
     "output_type": "error",
     "traceback": [
      "\u001b[1;31m---------------------------------------------------------------------------\u001b[0m",
      "\u001b[1;31mNotFoundError\u001b[0m                             Traceback (most recent call last)",
      "\u001b[1;32m<ipython-input-3-dcd4845eae6a>\u001b[0m in \u001b[0;36m<module>\u001b[1;34m()\u001b[0m\n\u001b[0;32m     40\u001b[0m \u001b[1;33m\u001b[0m\u001b[0m\n\u001b[0;32m     41\u001b[0m                 \u001b[0mmodel\u001b[0m \u001b[1;33m=\u001b[0m \u001b[0mVanillaGAN\u001b[0m\u001b[1;33m(\u001b[0m\u001b[0msess\u001b[0m\u001b[1;33m,\u001b[0m \u001b[0mx_size\u001b[0m\u001b[1;33m,\u001b[0m \u001b[0mz_size\u001b[0m\u001b[1;33m,\u001b[0m \u001b[0mz_range\u001b[0m\u001b[1;33m,\u001b[0m \u001b[0md_depths\u001b[0m\u001b[1;33m,\u001b[0m \u001b[0mg_depths\u001b[0m\u001b[1;33m,\u001b[0m \u001b[0mmb_size\u001b[0m\u001b[1;33m)\u001b[0m\u001b[1;33m\u001b[0m\u001b[0m\n\u001b[1;32m---> 42\u001b[1;33m                 \u001b[0mmodel\u001b[0m\u001b[1;33m.\u001b[0m\u001b[0mrestore_maui\u001b[0m\u001b[1;33m(\u001b[0m\u001b[0mroot\u001b[0m\u001b[1;33m+\u001b[0m\u001b[0mpath\u001b[0m\u001b[1;33m,\u001b[0m \u001b[0mstep\u001b[0m\u001b[1;33m,\u001b[0m \u001b[0msample_size\u001b[0m\u001b[1;33m,\u001b[0m \u001b[0mnum_cluster\u001b[0m\u001b[1;33m,\u001b[0m \u001b[0mscale\u001b[0m\u001b[1;33m,\u001b[0m \u001b[0mstd\u001b[0m\u001b[1;33m)\u001b[0m\u001b[1;33m\u001b[0m\u001b[0m\n\u001b[0m\u001b[0;32m     43\u001b[0m \u001b[1;33m\u001b[0m\u001b[0m\n\u001b[0;32m     44\u001b[0m                 \u001b[0msess\u001b[0m\u001b[1;33m.\u001b[0m\u001b[0mclose\u001b[0m\u001b[1;33m(\u001b[0m\u001b[1;33m)\u001b[0m\u001b[1;33m\u001b[0m\u001b[0m\n",
      "\u001b[1;32m/home/yamaguchi-s/Desktop/Research/practice/source/gan_analysis/vanilla_gan.pyc\u001b[0m in \u001b[0;36mrestore_maui\u001b[1;34m(self, path, step, sample_size, num_cluster, scale, std)\u001b[0m\n\u001b[0;32m    219\u001b[0m         \u001b[0mckpt\u001b[0m \u001b[1;33m=\u001b[0m \u001b[0mtf\u001b[0m\u001b[1;33m.\u001b[0m\u001b[0mtrain\u001b[0m\u001b[1;33m.\u001b[0m\u001b[0mget_checkpoint_state\u001b[0m\u001b[1;33m(\u001b[0m\u001b[0mpath\u001b[0m\u001b[1;33m)\u001b[0m\u001b[1;33m\u001b[0m\u001b[0m\n\u001b[0;32m    220\u001b[0m         \u001b[1;32mif\u001b[0m \u001b[0mckpt\u001b[0m\u001b[1;33m:\u001b[0m\u001b[1;33m\u001b[0m\u001b[0m\n\u001b[1;32m--> 221\u001b[1;33m             \u001b[0mself\u001b[0m\u001b[1;33m.\u001b[0m\u001b[0msaver\u001b[0m\u001b[1;33m.\u001b[0m\u001b[0mrestore\u001b[0m\u001b[1;33m(\u001b[0m\u001b[0mself\u001b[0m\u001b[1;33m.\u001b[0m\u001b[0msess\u001b[0m\u001b[1;33m,\u001b[0m \u001b[0mpath\u001b[0m\u001b[1;33m+\u001b[0m\u001b[1;34m'model.ckpt-{}'\u001b[0m\u001b[1;33m.\u001b[0m\u001b[0mformat\u001b[0m\u001b[1;33m(\u001b[0m\u001b[0mstep\u001b[0m\u001b[1;33m)\u001b[0m\u001b[1;33m)\u001b[0m\u001b[1;33m\u001b[0m\u001b[0m\n\u001b[0m\u001b[0;32m    222\u001b[0m             \u001b[0msample\u001b[0m \u001b[1;33m=\u001b[0m \u001b[0mself\u001b[0m\u001b[1;33m.\u001b[0m\u001b[0msess\u001b[0m\u001b[1;33m.\u001b[0m\u001b[0mrun\u001b[0m\u001b[1;33m(\u001b[0m\u001b[1;33m[\u001b[0m\u001b[0mG_sample\u001b[0m\u001b[1;33m]\u001b[0m\u001b[1;33m,\u001b[0m \u001b[0mfeed_dict\u001b[0m\u001b[1;33m=\u001b[0m\u001b[1;33m{\u001b[0m\u001b[0mself\u001b[0m\u001b[1;33m.\u001b[0m\u001b[0mZ\u001b[0m\u001b[1;33m:\u001b[0m \u001b[0mself\u001b[0m\u001b[1;33m.\u001b[0m\u001b[0msample_Z\u001b[0m\u001b[1;33m(\u001b[0m\u001b[0msample_size\u001b[0m\u001b[1;33m,\u001b[0m \u001b[0mself\u001b[0m\u001b[1;33m.\u001b[0m\u001b[0mz_size\u001b[0m\u001b[1;33m)\u001b[0m\u001b[1;33m}\u001b[0m\u001b[1;33m)\u001b[0m\u001b[1;33m\u001b[0m\u001b[0m\n\u001b[0;32m    223\u001b[0m \u001b[1;33m\u001b[0m\u001b[0m\n",
      "\u001b[1;32m/home/yamaguchi-s/anaconda/lib/python2.7/site-packages/tensorflow/python/training/saver.pyc\u001b[0m in \u001b[0;36mrestore\u001b[1;34m(self, sess, save_path)\u001b[0m\n\u001b[0;32m   1426\u001b[0m       \u001b[1;32mreturn\u001b[0m\u001b[1;33m\u001b[0m\u001b[0m\n\u001b[0;32m   1427\u001b[0m     sess.run(self.saver_def.restore_op_name,\n\u001b[1;32m-> 1428\u001b[1;33m              {self.saver_def.filename_tensor_name: save_path})\n\u001b[0m\u001b[0;32m   1429\u001b[0m \u001b[1;33m\u001b[0m\u001b[0m\n\u001b[0;32m   1430\u001b[0m   \u001b[1;33m@\u001b[0m\u001b[0mstaticmethod\u001b[0m\u001b[1;33m\u001b[0m\u001b[0m\n",
      "\u001b[1;32m/home/yamaguchi-s/anaconda/lib/python2.7/site-packages/tensorflow/python/client/session.pyc\u001b[0m in \u001b[0;36mrun\u001b[1;34m(self, fetches, feed_dict, options, run_metadata)\u001b[0m\n\u001b[0;32m    765\u001b[0m     \u001b[1;32mtry\u001b[0m\u001b[1;33m:\u001b[0m\u001b[1;33m\u001b[0m\u001b[0m\n\u001b[0;32m    766\u001b[0m       result = self._run(None, fetches, feed_dict, options_ptr,\n\u001b[1;32m--> 767\u001b[1;33m                          run_metadata_ptr)\n\u001b[0m\u001b[0;32m    768\u001b[0m       \u001b[1;32mif\u001b[0m \u001b[0mrun_metadata\u001b[0m\u001b[1;33m:\u001b[0m\u001b[1;33m\u001b[0m\u001b[0m\n\u001b[0;32m    769\u001b[0m         \u001b[0mproto_data\u001b[0m \u001b[1;33m=\u001b[0m \u001b[0mtf_session\u001b[0m\u001b[1;33m.\u001b[0m\u001b[0mTF_GetBuffer\u001b[0m\u001b[1;33m(\u001b[0m\u001b[0mrun_metadata_ptr\u001b[0m\u001b[1;33m)\u001b[0m\u001b[1;33m\u001b[0m\u001b[0m\n",
      "\u001b[1;32m/home/yamaguchi-s/anaconda/lib/python2.7/site-packages/tensorflow/python/client/session.pyc\u001b[0m in \u001b[0;36m_run\u001b[1;34m(self, handle, fetches, feed_dict, options, run_metadata)\u001b[0m\n\u001b[0;32m    963\u001b[0m     \u001b[1;32mif\u001b[0m \u001b[0mfinal_fetches\u001b[0m \u001b[1;32mor\u001b[0m \u001b[0mfinal_targets\u001b[0m\u001b[1;33m:\u001b[0m\u001b[1;33m\u001b[0m\u001b[0m\n\u001b[0;32m    964\u001b[0m       results = self._do_run(handle, final_targets, final_fetches,\n\u001b[1;32m--> 965\u001b[1;33m                              feed_dict_string, options, run_metadata)\n\u001b[0m\u001b[0;32m    966\u001b[0m     \u001b[1;32melse\u001b[0m\u001b[1;33m:\u001b[0m\u001b[1;33m\u001b[0m\u001b[0m\n\u001b[0;32m    967\u001b[0m       \u001b[0mresults\u001b[0m \u001b[1;33m=\u001b[0m \u001b[1;33m[\u001b[0m\u001b[1;33m]\u001b[0m\u001b[1;33m\u001b[0m\u001b[0m\n",
      "\u001b[1;32m/home/yamaguchi-s/anaconda/lib/python2.7/site-packages/tensorflow/python/client/session.pyc\u001b[0m in \u001b[0;36m_do_run\u001b[1;34m(self, handle, target_list, fetch_list, feed_dict, options, run_metadata)\u001b[0m\n\u001b[0;32m   1013\u001b[0m     \u001b[1;32mif\u001b[0m \u001b[0mhandle\u001b[0m \u001b[1;32mis\u001b[0m \u001b[0mNone\u001b[0m\u001b[1;33m:\u001b[0m\u001b[1;33m\u001b[0m\u001b[0m\n\u001b[0;32m   1014\u001b[0m       return self._do_call(_run_fn, self._session, feed_dict, fetch_list,\n\u001b[1;32m-> 1015\u001b[1;33m                            target_list, options, run_metadata)\n\u001b[0m\u001b[0;32m   1016\u001b[0m     \u001b[1;32melse\u001b[0m\u001b[1;33m:\u001b[0m\u001b[1;33m\u001b[0m\u001b[0m\n\u001b[0;32m   1017\u001b[0m       return self._do_call(_prun_fn, self._session, handle, feed_dict,\n",
      "\u001b[1;32m/home/yamaguchi-s/anaconda/lib/python2.7/site-packages/tensorflow/python/client/session.pyc\u001b[0m in \u001b[0;36m_do_call\u001b[1;34m(self, fn, *args)\u001b[0m\n\u001b[0;32m   1033\u001b[0m         \u001b[1;32mexcept\u001b[0m \u001b[0mKeyError\u001b[0m\u001b[1;33m:\u001b[0m\u001b[1;33m\u001b[0m\u001b[0m\n\u001b[0;32m   1034\u001b[0m           \u001b[1;32mpass\u001b[0m\u001b[1;33m\u001b[0m\u001b[0m\n\u001b[1;32m-> 1035\u001b[1;33m       \u001b[1;32mraise\u001b[0m \u001b[0mtype\u001b[0m\u001b[1;33m(\u001b[0m\u001b[0me\u001b[0m\u001b[1;33m)\u001b[0m\u001b[1;33m(\u001b[0m\u001b[0mnode_def\u001b[0m\u001b[1;33m,\u001b[0m \u001b[0mop\u001b[0m\u001b[1;33m,\u001b[0m \u001b[0mmessage\u001b[0m\u001b[1;33m)\u001b[0m\u001b[1;33m\u001b[0m\u001b[0m\n\u001b[0m\u001b[0;32m   1036\u001b[0m \u001b[1;33m\u001b[0m\u001b[0m\n\u001b[0;32m   1037\u001b[0m   \u001b[1;32mdef\u001b[0m \u001b[0m_extend_graph\u001b[0m\u001b[1;33m(\u001b[0m\u001b[0mself\u001b[0m\u001b[1;33m)\u001b[0m\u001b[1;33m:\u001b[0m\u001b[1;33m\u001b[0m\u001b[0m\n",
      "\u001b[1;31mNotFoundError\u001b[0m: Key G_b3_1 not found in checkpoint\n\t [[Node: save_1/RestoreV2_15 = RestoreV2[dtypes=[DT_FLOAT], _device=\"/job:localhost/replica:0/task:0/cpu:0\"](_recv_save_1/Const_0, save_1/RestoreV2_15/tensor_names, save_1/RestoreV2_15/shape_and_slices)]]\n\nCaused by op u'save_1/RestoreV2_15', defined at:\n  File \"/home/yamaguchi-s/anaconda/lib/python2.7/runpy.py\", line 162, in _run_module_as_main\n    \"__main__\", fname, loader, pkg_name)\n  File \"/home/yamaguchi-s/anaconda/lib/python2.7/runpy.py\", line 72, in _run_code\n    exec code in run_globals\n  File \"/home/yamaguchi-s/anaconda/lib/python2.7/site-packages/IPython/kernel/__main__.py\", line 3, in <module>\n    app.launch_new_instance()\n  File \"/home/yamaguchi-s/anaconda/lib/python2.7/site-packages/IPython/config/application.py\", line 574, in launch_instance\n    app.start()\n  File \"/home/yamaguchi-s/anaconda/lib/python2.7/site-packages/IPython/kernel/zmq/kernelapp.py\", line 374, in start\n    ioloop.IOLoop.instance().start()\n  File \"/home/yamaguchi-s/anaconda/lib/python2.7/site-packages/zmq/eventloop/ioloop.py\", line 151, in start\n    super(ZMQIOLoop, self).start()\n  File \"/home/yamaguchi-s/anaconda/lib/python2.7/site-packages/tornado/ioloop.py\", line 840, in start\n    handler_func(fd_obj, events)\n  File \"/home/yamaguchi-s/anaconda/lib/python2.7/site-packages/tornado/stack_context.py\", line 275, in null_wrapper\n    return fn(*args, **kwargs)\n  File \"/home/yamaguchi-s/anaconda/lib/python2.7/site-packages/zmq/eventloop/zmqstream.py\", line 433, in _handle_events\n    self._handle_recv()\n  File \"/home/yamaguchi-s/anaconda/lib/python2.7/site-packages/zmq/eventloop/zmqstream.py\", line 465, in _handle_recv\n    self._run_callback(callback, msg)\n  File \"/home/yamaguchi-s/anaconda/lib/python2.7/site-packages/zmq/eventloop/zmqstream.py\", line 407, in _run_callback\n    callback(*args, **kwargs)\n  File \"/home/yamaguchi-s/anaconda/lib/python2.7/site-packages/tornado/stack_context.py\", line 275, in null_wrapper\n    return fn(*args, **kwargs)\n  File \"/home/yamaguchi-s/anaconda/lib/python2.7/site-packages/IPython/kernel/zmq/kernelbase.py\", line 252, in dispatcher\n    return self.dispatch_shell(stream, msg)\n  File \"/home/yamaguchi-s/anaconda/lib/python2.7/site-packages/IPython/kernel/zmq/kernelbase.py\", line 213, in dispatch_shell\n    handler(stream, idents, msg)\n  File \"/home/yamaguchi-s/anaconda/lib/python2.7/site-packages/IPython/kernel/zmq/kernelbase.py\", line 362, in execute_request\n    user_expressions, allow_stdin)\n  File \"/home/yamaguchi-s/anaconda/lib/python2.7/site-packages/IPython/kernel/zmq/ipkernel.py\", line 181, in do_execute\n    shell.run_cell(code, store_history=store_history, silent=silent)\n  File \"/home/yamaguchi-s/anaconda/lib/python2.7/site-packages/IPython/core/interactiveshell.py\", line 2868, in run_cell\n    interactivity=interactivity, compiler=compiler, result=result)\n  File \"/home/yamaguchi-s/anaconda/lib/python2.7/site-packages/IPython/core/interactiveshell.py\", line 2972, in run_ast_nodes\n    if self.run_code(code, result):\n  File \"/home/yamaguchi-s/anaconda/lib/python2.7/site-packages/IPython/core/interactiveshell.py\", line 3032, in run_code\n    exec(code_obj, self.user_global_ns, self.user_ns)\n  File \"<ipython-input-3-dcd4845eae6a>\", line 42, in <module>\n    model.restore_maui(root+path, step, sample_size, num_cluster, scale, std)\n  File \"vanilla_gan.py\", line 217, in restore_maui\n    G_sample = self.sample_generator()\n  File \"vanilla_gan.py\", line 192, in sample_generator\n    self.saver = tf.train.Saver()\n  File \"/home/yamaguchi-s/anaconda/lib/python2.7/site-packages/tensorflow/python/training/saver.py\", line 1040, in __init__\n    self.build()\n  File \"/home/yamaguchi-s/anaconda/lib/python2.7/site-packages/tensorflow/python/training/saver.py\", line 1070, in build\n    restore_sequentially=self._restore_sequentially)\n  File \"/home/yamaguchi-s/anaconda/lib/python2.7/site-packages/tensorflow/python/training/saver.py\", line 675, in build\n    restore_sequentially, reshape)\n  File \"/home/yamaguchi-s/anaconda/lib/python2.7/site-packages/tensorflow/python/training/saver.py\", line 402, in _AddRestoreOps\n    tensors = self.restore_op(filename_tensor, saveable, preferred_shard)\n  File \"/home/yamaguchi-s/anaconda/lib/python2.7/site-packages/tensorflow/python/training/saver.py\", line 242, in restore_op\n    [spec.tensor.dtype])[0])\n  File \"/home/yamaguchi-s/anaconda/lib/python2.7/site-packages/tensorflow/python/ops/gen_io_ops.py\", line 668, in restore_v2\n    dtypes=dtypes, name=name)\n  File \"/home/yamaguchi-s/anaconda/lib/python2.7/site-packages/tensorflow/python/framework/op_def_library.py\", line 763, in apply_op\n    op_def=op_def)\n  File \"/home/yamaguchi-s/anaconda/lib/python2.7/site-packages/tensorflow/python/framework/ops.py\", line 2327, in create_op\n    original_op=self._default_original_op, op_def=op_def)\n  File \"/home/yamaguchi-s/anaconda/lib/python2.7/site-packages/tensorflow/python/framework/ops.py\", line 1226, in __init__\n    self._traceback = _extract_stack()\n\nNotFoundError (see above for traceback): Key G_b3_1 not found in checkpoint\n\t [[Node: save_1/RestoreV2_15 = RestoreV2[dtypes=[DT_FLOAT], _device=\"/job:localhost/replica:0/task:0/cpu:0\"](_recv_save_1/Const_0, save_1/RestoreV2_15/tensor_names, save_1/RestoreV2_15/shape_and_slices)]]\n"
     ]
    }
   ],
   "source": [
    "import os\n",
    "from vanilla_gan import *\n",
    "import tensorflow as tf\n",
    "\n",
    "\n",
    "x_size = 2\n",
    "z_range = 1.0\n",
    "d_depths = [25, 30, 30, 25]\n",
    "g_depths = [25, 20, 20, 10]\n",
    "mb_size = 128\n",
    "root = '/home/yamaguchi-s/Desktop/Research/practice/data/gan_analysis'\n",
    "\n",
    "#z_size\n",
    "learning_rate_D_list = [0.0001, 0.00005, 0.00001]\n",
    "learning_rate_G_list = [0.0001, 0.00005, 0.00001]\n",
    "num_cluster = 8\n",
    "scale = 2\n",
    "std = 0.2\n",
    "z_size_list = [100, 50, 10, 2, 1]\n",
    "species = 'z_zize'\n",
    "\n",
    "sample_size = 100000\n",
    "\n",
    "for learning_rate_D in learning_rate_D_list:\n",
    "    for learning_rate_G in learning_rate_G_list:\n",
    "        for z_size in z_size_list:\n",
    "            path = '/20170329/'+species+'/d_{}_g_{}_cl_{}_std_0.2_z_{}/'.format(\n",
    "                                      learning_rate_D, learning_rate_G, num_cluster, z_size)\n",
    "\n",
    "            D_loss_list = np.load(root+path+'d_loss_list.npy')\n",
    "            G_loss_list = np.load(root+path+'g_loss_list.npy')\n",
    "            plt.plot(np.arange(len(D_loss_list)), D_loss_list, label='D')\n",
    "            plt.plot(np.arange(len(G_loss_list)), G_loss_list, label='G')\n",
    "            plt.legend()\n",
    "            plt.savefig(root+path+'loss.png')\n",
    "            plt.close()\n",
    "\n",
    "            for step in range(0, 300000, 1000):\n",
    "                sess = tf.Session()\n",
    "\n",
    "                model = VanillaGAN(sess, x_size, z_size, z_range, d_depths, g_depths, mb_size)\n",
    "                model.restore_maui(root+path, step, sample_size, num_cluster, scale, std)\n",
    "\n",
    "                sess.close()\n",
    "\n",
    "#num_cluster\n",
    "z_size = 25\n",
    "num_cluster_list = [8, 4, 2, 1]\n",
    "\n",
    "for learning_rate_D in learning_rate_D_list:\n",
    "    for learning_rate_G in learning_rate_G_list:\n",
    "        for num_cluster in num_cluster_list:\n",
    "            path = '/20170329/'+species+'/d_{}_g_{}_cl_{}_std_0.2_z_{}/'.format(\n",
    "                                      learning_rate_D, learning_rate_G, num_cluster, z_size)\n",
    "\n",
    "            D_loss_list = np.load(root+path+'d_loss_list.npy')\n",
    "            G_loss_list = np.load(root+path+'g_loss_list.npy')\n",
    "            plt.plot(np.arange(len(D_loss_list)), D_loss_list, label='D')\n",
    "            plt.plot(np.arange(len(G_loss_list)), G_loss_list, label='G')\n",
    "            plt.legend()\n",
    "            plt.savefig(root+path+'loss.png')\n",
    "            plt.close()\n",
    "\n",
    "            for step in range(0, 300000, 1000):\n",
    "                sess = tf.Session()\n",
    "\n",
    "                model = VanillaGAN(sess, x_size, z_size, z_range, d_depths, g_depths, mb_size)\n",
    "                model.restore_maui(root+path, step, sample_size, num_cluster, scale, std)\n",
    "\n",
    "                sess.close()"
   ]
  },
  {
   "cell_type": "code",
   "execution_count": null,
   "metadata": {
    "collapsed": true
   },
   "outputs": [],
   "source": []
  }
 ],
 "metadata": {
  "kernelspec": {
   "display_name": "Python 2",
   "language": "python",
   "name": "python2"
  },
  "language_info": {
   "codemirror_mode": {
    "name": "ipython",
    "version": 2
   },
   "file_extension": ".py",
   "mimetype": "text/x-python",
   "name": "python",
   "nbconvert_exporter": "python",
   "pygments_lexer": "ipython2",
   "version": "2.7.11"
  }
 },
 "nbformat": 4,
 "nbformat_minor": 0
}
