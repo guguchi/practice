{
 "cells": [
  {
   "cell_type": "code",
   "execution_count": 1,
   "metadata": {
    "collapsed": true
   },
   "outputs": [],
   "source": [
    "# coding: utf-8 \n",
    "import os\n",
    "from vanilla_gan import *\n",
    "import tensorflow as tf\n",
    "import matplotlib.pyplot as plt\n",
    "# matplotlib inline"
   ]
  },
  {
   "cell_type": "code",
   "execution_count": 4,
   "metadata": {
    "collapsed": false
   },
   "outputs": [
    {
     "name": "stdout",
     "output_type": "stream",
     "text": [
      "nothing model.ckpt\n"
     ]
    },
    {
     "ename": "SystemExit",
     "evalue": "",
     "output_type": "error",
     "traceback": [
      "An exception has occurred, use %tb to see the full traceback.\n",
      "\u001b[1;31mSystemExit\u001b[0m\n"
     ]
    },
    {
     "name": "stderr",
     "output_type": "stream",
     "text": [
      "To exit: use 'exit', 'quit', or Ctrl-D.\n"
     ]
    }
   ],
   "source": [
    "def main(_):\n",
    "\n",
    "    x_size = 2\n",
    "    z_size = 100\n",
    "    z_range = 1.0\n",
    "    d_depths = [25, 30, 30, 25]\n",
    "    g_depths = [25, 20, 20, 10]\n",
    "    mb_size = 128\n",
    "    phase = 'test'#'train'#\n",
    "\n",
    "    learning_rate_D = 0.0001#[0.0001, 0.00005, 0.00001]\n",
    "    learning_rate_G = 0.0001#[0.0001, 0.00005, 0.00001]\n",
    "    num_cluster = 8\n",
    "    path = '/20170329/z_size/d_{}_g_{}_cl_{}_std_0.2_z_{}/'.format(\n",
    "                          learning_rate_D, learning_rate_G, num_cluster, z_size)\n",
    "    step = 10000\n",
    "    sample_size = 90000#<100000\n",
    "\n",
    "    with tf.Session() as sess:\n",
    "\n",
    "        if phase == 'train':\n",
    "            model = VanillaGAN(sess, x_size, z_size, z_range, d_depths, g_depths, mb_size)\n",
    "            model.train(step = 30, learning_rate_D = 0.001, learning_rate_G = 0.001,\n",
    "                        num_cluster = 8, scale = 2, std = 0.2)\n",
    "        else:\n",
    "            model = VanillaGAN(sess, x_size, z_size, z_range, d_depths, g_depths, mb_size)\n",
    "            model.restore_local(path, step, sample_size, num_cluster = 8, scale = 2, std = 0.2)\n",
    "\n",
    "if __name__ == '__main__':\n",
    "    tf.app.run()"
   ]
  },
  {
   "cell_type": "code",
   "execution_count": null,
   "metadata": {
    "collapsed": true
   },
   "outputs": [],
   "source": []
  }
 ],
 "metadata": {
  "kernelspec": {
   "display_name": "Python 2",
   "language": "python",
   "name": "python2"
  },
  "language_info": {
   "codemirror_mode": {
    "name": "ipython",
    "version": 2
   },
   "file_extension": ".py",
   "mimetype": "text/x-python",
   "name": "python",
   "nbconvert_exporter": "python",
   "pygments_lexer": "ipython2",
   "version": "2.7.11"
  }
 },
 "nbformat": 4,
 "nbformat_minor": 0
}
